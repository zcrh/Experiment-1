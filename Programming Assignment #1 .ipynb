{
 "cells": [
  {
   "cell_type": "markdown",
   "id": "ae144e86-2a1f-4b6e-9917-26534407ebdc",
   "metadata": {},
   "source": [
    " # 1. ALPHABET SOUP PROBLEM"
   ]
  },
  {
   "cell_type": "code",
   "execution_count": 18,
   "id": "54975536-775e-4b91-9f3f-195d0e8290ff",
   "metadata": {},
   "outputs": [
    {
     "name": "stdin",
     "output_type": "stream",
     "text": [
      "Please enter a string:  hello\n"
     ]
    },
    {
     "name": "stdout",
     "output_type": "stream",
     "text": [
      "Your sorted string: ehllo\n"
     ]
    }
   ],
   "source": [
    "def alphabetical():\n",
    "    # Prompt the user to enter a string and store the input\n",
    "    input_string = input(\"Please enter a string: \")\n",
    "    \n",
    "    # Create an empty string to store alphabetic characters\n",
    "    letters = \"\"\n",
    "    \n",
    "    # Repeatedly check over each character in the input string\n",
    "    for char in input_string:\n",
    "        # Check if the character is an alphabetic letter\n",
    "        if char.isalpha():\n",
    "            # Convert the alphabets to lowercase and store in letters string\n",
    "            letters += char.lower()\n",
    "    \n",
    "    # Sort the stored letters alphabetically, make them into a single string, and print the result\n",
    "    print(\"Your sorted string:\", ''.join(sorted(letters)))\n",
    "\n",
    "# Call the function to execute the code\n",
    "alphabetical()"
   ]
  },
  {
   "cell_type": "markdown",
   "id": "7fcd4454-c1e9-4e14-9950-6a244a60afd5",
   "metadata": {},
   "source": [
    "# 2. EMOTICON PROBLEM"
   ]
  },
  {
   "cell_type": "code",
   "execution_count": 20,
   "id": "f513d1dd-8e56-44b8-9058-406e857d0ce7",
   "metadata": {},
   "outputs": [
    {
     "name": "stdout",
     "output_type": "stream",
     "text": [
      "Input a sentence below!!\n"
     ]
    },
    {
     "name": "stdin",
     "output_type": "stream",
     "text": [
      "Enter a sentence:  im mad\n"
     ]
    },
    {
     "name": "stdout",
     "output_type": "stream",
     "text": [
      "Your emotified sentence:  im >:( \n"
     ]
    }
   ],
   "source": [
    "def emotify():\n",
    "    # Make a dictionary with words and their corresponding emoticons\n",
    "    emoticons = {\n",
    "        'smile': ':)',\n",
    "        'grin': ':D',\n",
    "        'sad': ':((',\n",
    "        'mad': '>:( '\n",
    "    }\n",
    "    # Prompt the user to enter a sentence\n",
    "    print(\"Input a sentence below!!\")\n",
    "    \n",
    "    # Get user input \n",
    "    sentence = input(\"Enter a sentence: \")\n",
    "    \n",
    "    # Convert sentence to lowercase \n",
    "    lowered = sentence.lower()\n",
    "    \n",
    "    # Replace each word with its emoticon if it matches\n",
    "    for word, emoticon in emoticons.items():\n",
    "        # Replace the word in lowercase type\n",
    "        lowered =  lowered.replace(word, emoticon)\n",
    "    \n",
    "    # Print \n",
    "    print(\"Your emotified sentence: \", lowered)\n",
    "\n",
    "# Call the function\n",
    "emotify()\n"
   ]
  },
  {
   "cell_type": "markdown",
   "id": "1447a77a-01fb-4e17-8e09-723a7b5ba2e7",
   "metadata": {},
   "source": [
    "# 3. UNPACKING LIST PROBLEM"
   ]
  },
  {
   "cell_type": "code",
   "execution_count": 16,
   "id": "878d8777-fb3b-48fa-a452-4c4feddc681f",
   "metadata": {},
   "outputs": [
    {
     "name": "stdin",
     "output_type": "stream",
     "text": [
      "Please enter a list of integers:  1 2\n"
     ]
    },
    {
     "name": "stdout",
     "output_type": "stream",
     "text": [
      "The list must contain at least three elements.\n"
     ]
    }
   ],
   "source": [
    "def arrange_list():\n",
    "    # Get user input \n",
    "    user_input = input(\"Please enter a list of integers: \")\n",
    "    \n",
    "    # Convert the input string into a list of integers\n",
    "    input_list = list(map(int, user_input.split()))\n",
    "    \n",
    "    # Unpack the list into first, middle, and last. The input string should be greater than three or else it will end\n",
    "    if len(input_list) < 3:\n",
    "        print(\"The list must contain at least three elements.\")\n",
    "        return\n",
    "    \n",
    "    first, *middle, last = input_list\n",
    "    \n",
    "    # Print the variables\n",
    "    print(\"first:\", first)\n",
    "    print(\"middle:\", middle)\n",
    "    print(\"last:\", last)\n",
    "\n",
    "# Call the function\n",
    "arrange_list()\n"
   ]
  },
  {
   "cell_type": "code",
   "execution_count": null,
   "id": "891c8695-ab72-45b6-80ea-4061d7a8b768",
   "metadata": {},
   "outputs": [],
   "source": []
  }
 ],
 "metadata": {
  "kernelspec": {
   "display_name": "Python 3 (ipykernel)",
   "language": "python",
   "name": "python3"
  },
  "language_info": {
   "codemirror_mode": {
    "name": "ipython",
    "version": 3
   },
   "file_extension": ".py",
   "mimetype": "text/x-python",
   "name": "python",
   "nbconvert_exporter": "python",
   "pygments_lexer": "ipython3",
   "version": "3.12.4"
  }
 },
 "nbformat": 4,
 "nbformat_minor": 5
}
